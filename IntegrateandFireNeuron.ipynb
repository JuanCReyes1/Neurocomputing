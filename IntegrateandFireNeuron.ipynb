{
  "nbformat": 4,
  "nbformat_minor": 0,
  "metadata": {
    "colab": {
      "name": "IntegrateandFire.ipynb",
      "provenance": [],
      "authorship_tag": "ABX9TyPvQ0ESqUWTnW1je13fdwWP",
      "include_colab_link": true
    },
    "kernelspec": {
      "name": "python3",
      "display_name": "Python 3"
    }
  },
  "cells": [
    {
      "cell_type": "markdown",
      "metadata": {
        "id": "view-in-github",
        "colab_type": "text"
      },
      "source": [
        "<a href=\"https://colab.research.google.com/github/JuanCReyes1/Neurocomputing/blob/master/IntegrateandFireNeuron.ipynb\" target=\"_parent\"><img src=\"https://colab.research.google.com/assets/colab-badge.svg\" alt=\"Open In Colab\"/></a>"
      ]
    },
    {
      "cell_type": "code",
      "metadata": {
        "id": "imWpSyLKJjX1",
        "colab_type": "code",
        "outputId": "1951a51e-f534-44a8-9484-7abe8b9d0e5d",
        "colab": {
          "base_uri": "https://localhost:8080/",
          "height": 1000
        }
      },
      "source": [
        "# Simulation of (leaky) integrate-and-fire neuron\n",
        "import numpy as np \n",
        "import matplotlib.pyplot as plt\n",
        "from scipy.signal import find_peaks\n",
        "\n",
        "# parameters of the model\n",
        "dt=0.1       # integration time step [ms]\n",
        "tau=10       # time constant [ms]\n",
        "E_L=-65      # resting potential [mV]\n",
        "theta=-55    # firing threshold [mV]\n",
        "RI_ext=14   # constant external input [mA/Ohm]\n",
        "\n",
        "ext_current_range = np.arange(5,20,0.1)\n",
        "\n",
        "f=[] #list that will store our frequency values\n",
        "\n",
        "for J in ext_current_range:\n",
        "    # Integration with Euler method\n",
        "    v_rec=np.array([])\n",
        "    t_rec=np.array([])\n",
        "    s_rec=np.array([])\n",
        "    t_step=0; \n",
        "    v=E_L;\n",
        "    for t in range(int(100/dt)):\n",
        "        s=v>theta\n",
        "        #v=s*E_L+(1-s)*(v-dt/tau*((v-E_L)-RI_ext)) #incorporates the reset \n",
        "        v=s*E_L+(1-s)*(v-dt/tau*((v-E_L)- J )) #incorporates the reset \n",
        "        v_rec=np.append(v_rec,v)\n",
        "        t_rec=np.append(t_rec,t)\n",
        "        s_rec=np.append(s_rec,s)\n",
        "        \n",
        "    peaks_locations = find_peaks(v_rec,-56)\n",
        "    print(\"The number of peaks for J= \" +str(J) +\" is \" + str(len(peaks_locations[0])))\n",
        "    tdiff =[]\n",
        "    \n",
        "    #store frequencies for value of J\n",
        "    for i in range(0,len(peaks_locations[0])-1):\n",
        "        tdiff.append((peaks_locations[0][i+1]-peaks_locations[0][i]))\n",
        "    tdiff=np.array(tdiff)\n",
        "    f.append(1/(tdiff.mean()))\n",
        "        \n",
        "f=np.array(f)\n",
        "f[np.isnan(f)]=0\n",
        "#f\n",
        "\n",
        "plt.plot(ext_current_range,f)\n",
        "    "
      ],
      "execution_count": 0,
      "outputs": [
        {
          "output_type": "stream",
          "text": [
            "The number of peaks for J= 5.0 is 0\n",
            "The number of peaks for J= 5.1 is 0\n",
            "The number of peaks for J= 5.199999999999999 is 0\n",
            "The number of peaks for J= 5.299999999999999 is 0\n",
            "The number of peaks for J= 5.399999999999999 is 0\n",
            "The number of peaks for J= 5.499999999999998 is 0\n",
            "The number of peaks for J= 5.599999999999998 is 0"
          ],
          "name": "stdout"
        },
        {
          "output_type": "stream",
          "text": [
            "/usr/local/lib/python3.6/dist-packages/ipykernel_launcher.py:39: RuntimeWarning: Mean of empty slice.\n",
            "/usr/local/lib/python3.6/dist-packages/numpy/core/_methods.py:161: RuntimeWarning: invalid value encountered in double_scalars\n",
            "  ret = ret.dtype.type(ret / rcount)\n"
          ],
          "name": "stderr"
        },
        {
          "output_type": "stream",
          "text": [
            "\n",
            "The number of peaks for J= 5.6999999999999975 is 0\n",
            "The number of peaks for J= 5.799999999999997 is 0\n",
            "The number of peaks for J= 5.899999999999997 is 0\n",
            "The number of peaks for J= 5.9999999999999964 is 0\n",
            "The number of peaks for J= 6.099999999999996 is 0\n",
            "The number of peaks for J= 6.199999999999996 is 0\n",
            "The number of peaks for J= 6.299999999999995 is 0\n",
            "The number of peaks for J= 6.399999999999995 is 0\n",
            "The number of peaks for J= 6.499999999999995 is 0\n",
            "The number of peaks for J= 6.599999999999994 is 0\n",
            "The number of peaks for J= 6.699999999999994 is 0\n",
            "The number of peaks for J= 6.799999999999994 is 0\n",
            "The number of peaks for J= 6.899999999999993 is 0\n",
            "The number of peaks for J= 6.999999999999993 is 0\n",
            "The number of peaks for J= 7.0999999999999925 is 0\n",
            "The number of peaks for J= 7.199999999999992 is 0\n",
            "The number of peaks for J= 7.299999999999992 is 0\n",
            "The number of peaks for J= 7.3999999999999915 is 0\n",
            "The number of peaks for J= 7.499999999999991 is 0\n",
            "The number of peaks for J= 7.599999999999991 is 0\n",
            "The number of peaks for J= 7.69999999999999 is 0\n",
            "The number of peaks for J= 7.79999999999999 is 0\n",
            "The number of peaks for J= 7.89999999999999 is 0\n",
            "The number of peaks for J= 7.999999999999989 is 0\n",
            "The number of peaks for J= 8.099999999999989 is 0\n",
            "The number of peaks for J= 8.199999999999989 is 0\n",
            "The number of peaks for J= 8.299999999999988 is 0\n",
            "The number of peaks for J= 8.399999999999988 is 0\n",
            "The number of peaks for J= 8.499999999999988 is 0\n",
            "The number of peaks for J= 8.599999999999987 is 0\n",
            "The number of peaks for J= 8.699999999999987 is 0\n",
            "The number of peaks for J= 8.799999999999986 is 0\n",
            "The number of peaks for J= 8.899999999999986 is 0\n",
            "The number of peaks for J= 8.999999999999986 is 0\n",
            "The number of peaks for J= 9.099999999999985 is 0\n",
            "The number of peaks for J= 9.199999999999985 is 0\n",
            "The number of peaks for J= 9.299999999999985 is 0\n",
            "The number of peaks for J= 9.399999999999984 is 0\n",
            "The number of peaks for J= 9.499999999999984 is 0\n",
            "The number of peaks for J= 9.599999999999984 is 0\n",
            "The number of peaks for J= 9.699999999999983 is 0\n",
            "The number of peaks for J= 9.799999999999983 is 0\n",
            "The number of peaks for J= 9.899999999999983 is 0\n",
            "The number of peaks for J= 9.999999999999982 is 0\n",
            "The number of peaks for J= 10.099999999999982 is 2\n",
            "The number of peaks for J= 10.199999999999982 is 2\n",
            "The number of peaks for J= 10.299999999999981 is 2\n",
            "The number of peaks for J= 10.39999999999998 is 3\n",
            "The number of peaks for J= 10.49999999999998 is 3\n",
            "The number of peaks for J= 10.59999999999998 is 3\n",
            "The number of peaks for J= 10.69999999999998 is 3\n",
            "The number of peaks for J= 10.79999999999998 is 3\n",
            "The number of peaks for J= 10.899999999999979 is 4\n",
            "The number of peaks for J= 10.999999999999979 is 4\n",
            "The number of peaks for J= 11.099999999999978 is 4\n",
            "The number of peaks for J= 11.199999999999978 is 4\n",
            "The number of peaks for J= 11.299999999999978 is 4\n",
            "The number of peaks for J= 11.399999999999977 is 4\n",
            "The number of peaks for J= 11.499999999999977 is 4\n",
            "The number of peaks for J= 11.599999999999977 is 5\n",
            "The number of peaks for J= 11.699999999999976 is 5\n",
            "The number of peaks for J= 11.799999999999976 is 5\n",
            "The number of peaks for J= 11.899999999999975 is 5\n",
            "The number of peaks for J= 11.999999999999975 is 5\n",
            "The number of peaks for J= 12.099999999999975 is 5\n",
            "The number of peaks for J= 12.199999999999974 is 5\n",
            "The number of peaks for J= 12.299999999999974 is 5\n",
            "The number of peaks for J= 12.399999999999974 is 6\n",
            "The number of peaks for J= 12.499999999999973 is 6\n",
            "The number of peaks for J= 12.599999999999973 is 6\n",
            "The number of peaks for J= 12.699999999999973 is 6\n",
            "The number of peaks for J= 12.799999999999972 is 6\n",
            "The number of peaks for J= 12.899999999999972 is 6\n",
            "The number of peaks for J= 12.999999999999972 is 6\n",
            "The number of peaks for J= 13.099999999999971 is 6\n",
            "The number of peaks for J= 13.19999999999997 is 7\n",
            "The number of peaks for J= 13.29999999999997 is 7\n",
            "The number of peaks for J= 13.39999999999997 is 7\n",
            "The number of peaks for J= 13.49999999999997 is 7\n",
            "The number of peaks for J= 13.59999999999997 is 7\n",
            "The number of peaks for J= 13.699999999999969 is 7\n",
            "The number of peaks for J= 13.799999999999969 is 7\n",
            "The number of peaks for J= 13.899999999999968 is 7\n",
            "The number of peaks for J= 13.999999999999968 is 7\n",
            "The number of peaks for J= 14.099999999999968 is 8\n",
            "The number of peaks for J= 14.199999999999967 is 8\n",
            "The number of peaks for J= 14.299999999999967 is 8\n",
            "The number of peaks for J= 14.399999999999967 is 8\n",
            "The number of peaks for J= 14.499999999999966 is 8\n",
            "The number of peaks for J= 14.599999999999966 is 8\n",
            "The number of peaks for J= 14.699999999999966 is 8\n",
            "The number of peaks for J= 14.799999999999965 is 8\n",
            "The number of peaks for J= 14.899999999999965 is 8\n",
            "The number of peaks for J= 14.999999999999964 is 9\n",
            "The number of peaks for J= 15.099999999999964 is 9\n",
            "The number of peaks for J= 15.199999999999964 is 9\n",
            "The number of peaks for J= 15.299999999999963 is 9\n",
            "The number of peaks for J= 15.399999999999963 is 9\n",
            "The number of peaks for J= 15.499999999999963 is 9\n",
            "The number of peaks for J= 15.599999999999962 is 9\n",
            "The number of peaks for J= 15.699999999999962 is 9\n",
            "The number of peaks for J= 15.799999999999962 is 9\n",
            "The number of peaks for J= 15.899999999999961 is 10\n",
            "The number of peaks for J= 15.999999999999961 is 10\n",
            "The number of peaks for J= 16.09999999999996 is 10\n",
            "The number of peaks for J= 16.19999999999996 is 10\n",
            "The number of peaks for J= 16.29999999999996 is 10\n",
            "The number of peaks for J= 16.39999999999996 is 10\n",
            "The number of peaks for J= 16.499999999999957 is 10\n",
            "The number of peaks for J= 16.59999999999996 is 10\n",
            "The number of peaks for J= 16.69999999999996 is 10\n",
            "The number of peaks for J= 16.799999999999958 is 10\n",
            "The number of peaks for J= 16.899999999999956 is 10\n",
            "The number of peaks for J= 16.999999999999957 is 11\n",
            "The number of peaks for J= 17.09999999999996 is 11\n",
            "The number of peaks for J= 17.199999999999957 is 11\n",
            "The number of peaks for J= 17.299999999999955 is 11\n",
            "The number of peaks for J= 17.399999999999956 is 11\n",
            "The number of peaks for J= 17.499999999999957 is 11\n",
            "The number of peaks for J= 17.599999999999955 is 11\n",
            "The number of peaks for J= 17.699999999999953 is 11\n",
            "The number of peaks for J= 17.799999999999955 is 11\n",
            "The number of peaks for J= 17.899999999999956 is 12\n",
            "The number of peaks for J= 17.999999999999954 is 12\n",
            "The number of peaks for J= 18.09999999999995 is 12\n",
            "The number of peaks for J= 18.199999999999953 is 12\n",
            "The number of peaks for J= 18.299999999999955 is 12\n",
            "The number of peaks for J= 18.399999999999952 is 12\n",
            "The number of peaks for J= 18.49999999999995 is 12\n",
            "The number of peaks for J= 18.59999999999995 is 12\n",
            "The number of peaks for J= 18.699999999999953 is 12\n",
            "The number of peaks for J= 18.79999999999995 is 12\n",
            "The number of peaks for J= 18.89999999999995 is 13\n",
            "The number of peaks for J= 18.99999999999995 is 13\n",
            "The number of peaks for J= 19.09999999999995 is 13\n",
            "The number of peaks for J= 19.19999999999995 is 13\n",
            "The number of peaks for J= 19.299999999999947 is 13\n",
            "The number of peaks for J= 19.39999999999995 is 13\n",
            "The number of peaks for J= 19.49999999999995 is 13\n",
            "The number of peaks for J= 19.599999999999948 is 13\n",
            "The number of peaks for J= 19.699999999999946 is 13\n",
            "The number of peaks for J= 19.799999999999947 is 14\n",
            "The number of peaks for J= 19.89999999999995 is 14\n"
          ],
          "name": "stdout"
        },
        {
          "output_type": "execute_result",
          "data": {
            "text/plain": [
              "[<matplotlib.lines.Line2D at 0x7f147ed7b0f0>]"
            ]
          },
          "metadata": {
            "tags": []
          },
          "execution_count": 16
        },
        {
          "output_type": "display_data",
          "data": {
            "image/png": "[encoded data removed]",
            "text/plain": [
              "<Figure size 432x288 with 1 Axes>"
            ]
          },
          "metadata": {
            "tags": []
          }
        }
      ]
    },
    {
      "cell_type": "code",
      "metadata": {
        "id": "8dJXqDztJm8r",
        "colab_type": "code",
        "outputId": "c7c69970-78a5-4eaf-c57f-bcb17779c7c6",
        "colab": {
          "base_uri": "https://localhost:8080/",
          "height": 34
        }
      },
      "source": [
        "ext_current_range"
      ],
      "execution_count": 0,
      "outputs": [
        {
          "output_type": "execute_result",
          "data": {
            "text/plain": [
              "array([ 5.  ,  5.01,  5.02, ..., 39.97, 39.98, 39.99])"
            ]
          },
          "metadata": {
            "tags": []
          },
          "execution_count": 12
        }
      ]
    },
    {
      "cell_type": "code",
      "metadata": {
        "id": "L3p6gE69Jpop",
        "colab_type": "code",
        "outputId": "8c141552-ace2-4093-e274-13241f9d84ea",
        "colab": {
          "base_uri": "https://localhost:8080/",
          "height": 51
        }
      },
      "source": [
        "f[np.isnan(f)]=0\n",
        "f"
      ],
      "execution_count": 0,
      "outputs": [
        {
          "output_type": "execute_result",
          "data": {
            "text/plain": [
              "array([0.        , 0.        , 0.        , ..., 0.03333333, 0.03333333,\n",
              "       0.03333333])"
            ]
          },
          "metadata": {
            "tags": []
          },
          "execution_count": 13
        }
      ]
    },
    {
      "cell_type": "code",
      "metadata": {
        "id": "eSZtFFS_Ju9a",
        "colab_type": "code",
        "outputId": "6f969e67-dd8c-46ad-b560-1f85b0cd1cb6",
        "colab": {
          "base_uri": "https://localhost:8080/",
          "height": 286
        }
      },
      "source": [
        "plt.plot(ext_current_range,f)"
      ],
      "execution_count": 0,
      "outputs": [
        {
          "output_type": "execute_result",
          "data": {
            "text/plain": [
              "[<matplotlib.lines.Line2D at 0x7f147f35bcf8>]"
            ]
          },
          "metadata": {
            "tags": []
          },
          "execution_count": 14
        },
        {
          "output_type": "display_data",
          "data": {
            "image/png": "[encoded data removed]",
            "text/plain": [
              "<Figure size 432x288 with 1 Axes>"
            ]
          },
          "metadata": {
            "tags": []
          }
        }
      ]
    },
    {
      "cell_type": "code",
      "metadata": {
        "id": "BLg-97d5J0_u",
        "colab_type": "code",
        "colab": {}
      },
      "source": [
        ""
      ],
      "execution_count": 0,
      "outputs": []
    }
  ]
}